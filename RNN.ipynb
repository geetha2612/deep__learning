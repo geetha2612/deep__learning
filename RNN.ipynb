{
  "nbformat": 4,
  "nbformat_minor": 0,
  "metadata": {
    "colab": {
      "provenance": [],
      "include_colab_link": true
    },
    "kernelspec": {
      "name": "python3",
      "display_name": "Python 3"
    },
    "language_info": {
      "name": "python"
    }
  },
  "cells": [
    {
      "cell_type": "markdown",
      "metadata": {
        "id": "view-in-github",
        "colab_type": "text"
      },
      "source": [
        "<a href=\"https://colab.research.google.com/github/geetha2612/deep__learning/blob/main/RNN.ipynb\" target=\"_parent\"><img src=\"https://colab.research.google.com/assets/colab-badge.svg\" alt=\"Open In Colab\"/></a>"
      ]
    },
    {
      "cell_type": "code",
      "execution_count": null,
      "metadata": {
        "id": "jQktiWJpXr8B"
      },
      "outputs": [],
      "source": [
        "from tensorflow.keras.preprocessing.sequence import pad_sequences\n",
        "from tensorflow.keras.layers import Embedding, SimpleRNN, Dense, Dropout\n",
        "from tensorflow.keras.preprocessing.text import Tokenizer\n",
        "from tensorflow.keras.callbacks import EarlyStopping\n",
        "from tensorflow.keras.models import Sequential\n",
        "import tensorflow.keras.utils as ku\n",
        "import tensorflow\n",
        "\n",
        "# set seeds for reproducability\n",
        "tensorflow.random.set_seed(200)\n",
        "\n",
        "import pandas as pd\n",
        "import numpy as np\n",
        "import string"
      ]
    },
    {
      "cell_type": "code",
      "source": [
        "all_headlines = []\n",
        "article_df = pd.read_csv('/content/ArticlesMarch2018.csv')\n",
        "all_headlines.extend(list(article_df.headline.values))\n",
        "all_headlines = [h for h in all_headlines if h != \"Unknown\"]\n",
        "len(all_headlines)"
      ],
      "metadata": {
        "colab": {
          "base_uri": "https://localhost:8080/"
        },
        "id": "le-Kiu0fcIbL",
        "outputId": "e0780ce7-1b1f-4ee9-d7c9-e4ed4631377d"
      },
      "execution_count": null,
      "outputs": [
        {
          "output_type": "execute_result",
          "data": {
            "text/plain": [
              "1250"
            ]
          },
          "metadata": {},
          "execution_count": 4
        }
      ]
    },
    {
      "cell_type": "code",
      "source": [
        "all_headlines[:10]\n",
        "def clean_text(txt):\n",
        "    txt = \"\".join(v for v in txt if v not in string.punctuation).lower()\n",
        "    txt = txt.encode(\"utf8\").decode(\"ascii\",'ignore')\n",
        "    return txt\n",
        "\n",
        "corpus = [clean_text(x) for x in all_headlines]\n",
        "corpus[:10]"
      ],
      "metadata": {
        "colab": {
          "base_uri": "https://localhost:8080/"
        },
        "id": "qe8GZhCZcIrH",
        "outputId": "c496f93d-5145-4a6f-95a3-c7cf1625eb71"
      },
      "execution_count": null,
      "outputs": [
        {
          "output_type": "execute_result",
          "data": {
            "text/plain": [
              "['virtual coins real resources',\n",
              " 'us advances military plans for north korea',\n",
              " 'mr trump and the very bad judge',\n",
              " 'to erase dissent china bans pooh bear and n',\n",
              " 'loans flowed to kushner cos after visits to the white house',\n",
              " 'china envoy intends to ease trade tensions',\n",
              " 'president trumps contradictory and sometimes false comments about gun policy to lawmakers',\n",
              " 'classic letter puzzle',\n",
              " 'silicon valley disruption in an australian school',\n",
              " 'the assassination of gianni versace episode 6 a nothing man']"
            ]
          },
          "metadata": {},
          "execution_count": 6
        }
      ]
    },
    {
      "cell_type": "code",
      "source": [
        "tokenizer = Tokenizer()\n",
        "tokenizer.fit_on_texts(corpus)\n",
        "token_list = tokenizer.texts_to_sequences([\"I am happy to see you here today\"])[0]\n",
        "print(token_list)\n",
        "\n",
        "check=[]\n",
        "\n",
        "for i in range(1, len(token_list)):\n",
        "  n_gram_sequence = token_list[:i+1]\n",
        "  check.append(n_gram_sequence)\n",
        "\n",
        "check"
      ],
      "metadata": {
        "colab": {
          "base_uri": "https://localhost:8080/"
        },
        "id": "HTRL8Uj9cIw4",
        "outputId": "36ac93d0-eed2-4ff8-e5fc-9fc976edf1ae"
      },
      "execution_count": null,
      "outputs": [
        {
          "output_type": "stream",
          "name": "stdout",
          "text": [
            "[33, 469, 1062, 3, 191, 16, 84, 767]\n"
          ]
        },
        {
          "output_type": "execute_result",
          "data": {
            "text/plain": [
              "[[33, 469],\n",
              " [33, 469, 1062],\n",
              " [33, 469, 1062, 3],\n",
              " [33, 469, 1062, 3, 191],\n",
              " [33, 469, 1062, 3, 191, 16],\n",
              " [33, 469, 1062, 3, 191, 16, 84],\n",
              " [33, 469, 1062, 3, 191, 16, 84, 767]]"
            ]
          },
          "metadata": {},
          "execution_count": 7
        }
      ]
    },
    {
      "cell_type": "code",
      "source": [
        "tokenizer = Tokenizer()\n",
        "\n",
        "def get_sequence_of_tokens(corpus):\n",
        "    ## tokenization\n",
        "    tokenizer.fit_on_texts(corpus)\n",
        "    total_words = len(tokenizer.word_index) + 1\n",
        "\n",
        "    ## convert data to sequence of tokens\n",
        "    input_sequences = []\n",
        "    for line in corpus:\n",
        "        token_list = tokenizer.texts_to_sequences([line])[0]\n",
        "        for i in range(1, len(token_list)):\n",
        "            n_gram_sequence = token_list[:i+1]\n",
        "            input_sequences.append(n_gram_sequence)\n",
        "    return input_sequences, total_words\n",
        "\n",
        "inp_sequences, total_words = get_sequence_of_tokens(corpus)\n",
        "\n",
        "inp_sequences[:10], total_words"
      ],
      "metadata": {
        "colab": {
          "base_uri": "https://localhost:8080/"
        },
        "id": "QyLUNJJycI1Y",
        "outputId": "0ce25dee-b552-4dbc-afc2-ed6af07251f2"
      },
      "execution_count": null,
      "outputs": [
        {
          "output_type": "execute_result",
          "data": {
            "text/plain": [
              "([[1119, 1120],\n",
              "  [1119, 1120, 116],\n",
              "  [1119, 1120, 116, 1121],\n",
              "  [31, 1122],\n",
              "  [31, 1122, 589],\n",
              "  [31, 1122, 589, 392],\n",
              "  [31, 1122, 589, 392, 7],\n",
              "  [31, 1122, 589, 392, 7, 61],\n",
              "  [31, 1122, 589, 392, 7, 61, 70],\n",
              "  [117, 10]],\n",
              " 3582)"
            ]
          },
          "metadata": {},
          "execution_count": 8
        }
      ]
    },
    {
      "cell_type": "code",
      "source": [
        "def generate_padded_sequences(input_sequences):\n",
        "    max_sequence_len = max([len(x) for x in input_sequences])\n",
        "    input_sequences = np.array(pad_sequences(input_sequences, maxlen=max_sequence_len, padding='pre'))\n",
        "\n",
        "    predictors, label = input_sequences[:,:-1],input_sequences[:,-1]\n",
        "    label = ku.to_categorical(label, num_classes=total_words)\n",
        "    return predictors, label, max_sequence_len\n",
        "\n",
        "predictors, label, max_sequence_len = generate_padded_sequences(inp_sequences)\n",
        "predictors,label,len(label[0]),max_sequence_len"
      ],
      "metadata": {
        "colab": {
          "base_uri": "https://localhost:8080/"
        },
        "id": "NTL6ULkucI45",
        "outputId": "38a13cd4-b49d-4542-8a98-1f69a2c4dd4a"
      },
      "execution_count": null,
      "outputs": [
        {
          "output_type": "execute_result",
          "data": {
            "text/plain": [
              "(array([[   0,    0,    0, ...,    0,    0, 1119],\n",
              "        [   0,    0,    0, ...,    0, 1119, 1120],\n",
              "        [   0,    0,    0, ..., 1119, 1120,  116],\n",
              "        ...,\n",
              "        [   0,    0,    0, ...,  979,  151,  386],\n",
              "        [   0,    0,    0, ...,    0,    0, 3581],\n",
              "        [   0,    0,    0, ...,    0, 3581,    5]], dtype=int32),\n",
              " array([[0., 0., 0., ..., 0., 0., 0.],\n",
              "        [0., 0., 0., ..., 0., 0., 0.],\n",
              "        [0., 0., 0., ..., 0., 0., 0.],\n",
              "        ...,\n",
              "        [0., 0., 0., ..., 0., 0., 0.],\n",
              "        [0., 0., 0., ..., 0., 0., 0.],\n",
              "        [0., 0., 0., ..., 0., 0., 0.]], dtype=float32),\n",
              " 3582,\n",
              " 18)"
            ]
          },
          "metadata": {},
          "execution_count": 11
        }
      ]
    },
    {
      "cell_type": "code",
      "source": [
        "def create_model(max_sequence_len, total_words):\n",
        "    input_len = max_sequence_len - 1\n",
        "    model = Sequential()\n",
        "\n",
        "    # Setting early_stopping feature to stop early on getting stagnant\n",
        "    early_stopping = EarlyStopping(\n",
        "    min_delta=0.01, # minimium amount of change to count as an improvement\n",
        "    patience=5, # how many epochs to wait before stopping\n",
        "    restore_best_weights=True,\n",
        "    )\n",
        "\n",
        "    # Add Input Embedding Layer\n",
        "    model.add(Embedding(total_words, 32, input_length=input_len))\n",
        "\n",
        "    # input_dim: Integer. Size of the vocabulary, i.e. maximum integer index + 1.\n",
        "    # output_dim: Integer. Dimension of the dense embedding.\n",
        "    # input_length: Length of input sequences, when it is constant.\n",
        "\n",
        "    # Add Hidden Layer 1 - RNN Layer\n",
        "    model.add(SimpleRNN(200))\n",
        "\n",
        "    # Add Hidden Layer 2 - Dropout Layer\n",
        "    model.add(Dropout(0.1))\n",
        "\n",
        "    # Add Output Layer\n",
        "    model.add(Dense(total_words, activation='softmax'))\n",
        "\n",
        "    model.compile(loss='categorical_crossentropy', optimizer='adam')\n",
        "\n",
        "    return model\n",
        "\n",
        "model = create_model(max_sequence_len, total_words)\n",
        "model.summary()"
      ],
      "metadata": {
        "colab": {
          "base_uri": "https://localhost:8080/"
        },
        "id": "kum3-_1ecI8q",
        "outputId": "a98303d8-3cc9-44ae-d2a3-edc42f11af51"
      },
      "execution_count": null,
      "outputs": [
        {
          "output_type": "stream",
          "name": "stdout",
          "text": [
            "Model: \"sequential_3\"\n",
            "_________________________________________________________________\n",
            " Layer (type)                Output Shape              Param #   \n",
            "=================================================================\n",
            " embedding_3 (Embedding)     (None, 17, 32)            114624    \n",
            "                                                                 \n",
            " simple_rnn_1 (SimpleRNN)    (None, 200)               46600     \n",
            "                                                                 \n",
            " dropout_1 (Dropout)         (None, 200)               0         \n",
            "                                                                 \n",
            " dense_3 (Dense)             (None, 3582)              719982    \n",
            "                                                                 \n",
            "=================================================================\n",
            "Total params: 881206 (3.36 MB)\n",
            "Trainable params: 881206 (3.36 MB)\n",
            "Non-trainable params: 0 (0.00 Byte)\n",
            "_________________________________________________________________\n"
          ]
        }
      ]
    },
    {
      "cell_type": "code",
      "source": [
        "model.fit(predictors, label, epochs=100)\n"
      ],
      "metadata": {
        "colab": {
          "base_uri": "https://localhost:8080/"
        },
        "id": "AvoYXq1UcJAI",
        "outputId": "dc927118-00c8-4691-cc02-211aeeaf6dbd"
      },
      "execution_count": null,
      "outputs": [
        {
          "output_type": "stream",
          "name": "stdout",
          "text": [
            "Epoch 1/100\n",
            "252/252 [==============================] - 7s 28ms/step - loss: 0.4757\n",
            "Epoch 2/100\n",
            "252/252 [==============================] - 8s 33ms/step - loss: 0.4585\n",
            "Epoch 3/100\n",
            "252/252 [==============================] - 8s 30ms/step - loss: 0.4417\n",
            "Epoch 4/100\n",
            "252/252 [==============================] - 8s 33ms/step - loss: 0.4126\n",
            "Epoch 5/100\n",
            "252/252 [==============================] - 9s 34ms/step - loss: 0.4082\n",
            "Epoch 6/100\n",
            "252/252 [==============================] - 7s 28ms/step - loss: 0.4044\n",
            "Epoch 7/100\n",
            "252/252 [==============================] - 8s 32ms/step - loss: 0.3928\n",
            "Epoch 8/100\n",
            "252/252 [==============================] - 8s 30ms/step - loss: 0.3951\n",
            "Epoch 9/100\n",
            "252/252 [==============================] - 8s 31ms/step - loss: 0.3885\n",
            "Epoch 10/100\n",
            "252/252 [==============================] - 9s 34ms/step - loss: 0.3859\n",
            "Epoch 11/100\n",
            "252/252 [==============================] - 7s 29ms/step - loss: 0.3666\n",
            "Epoch 12/100\n",
            "252/252 [==============================] - 8s 33ms/step - loss: 0.3699\n",
            "Epoch 13/100\n",
            "252/252 [==============================] - 8s 34ms/step - loss: 0.3684\n",
            "Epoch 14/100\n",
            "252/252 [==============================] - 8s 31ms/step - loss: 0.3744\n",
            "Epoch 15/100\n",
            "252/252 [==============================] - 9s 34ms/step - loss: 0.3664\n",
            "Epoch 16/100\n",
            "252/252 [==============================] - 7s 29ms/step - loss: 0.3562\n",
            "Epoch 17/100\n",
            "252/252 [==============================] - 8s 34ms/step - loss: 0.3650\n",
            "Epoch 18/100\n",
            "252/252 [==============================] - 8s 33ms/step - loss: 0.3599\n",
            "Epoch 19/100\n",
            "252/252 [==============================] - 7s 29ms/step - loss: 0.3578\n",
            "Epoch 20/100\n",
            "252/252 [==============================] - 9s 34ms/step - loss: 0.3571\n",
            "Epoch 21/100\n",
            "252/252 [==============================] - 8s 31ms/step - loss: 0.3575\n",
            "Epoch 22/100\n",
            "252/252 [==============================] - 8s 32ms/step - loss: 0.3611\n",
            "Epoch 23/100\n",
            "252/252 [==============================] - 9s 34ms/step - loss: 0.3584\n",
            "Epoch 24/100\n",
            "252/252 [==============================] - 7s 29ms/step - loss: 0.3552\n",
            "Epoch 25/100\n",
            "252/252 [==============================] - 8s 33ms/step - loss: 0.3472\n",
            "Epoch 26/100\n",
            "252/252 [==============================] - 8s 31ms/step - loss: 0.3501\n",
            "Epoch 27/100\n",
            "252/252 [==============================] - 7s 30ms/step - loss: 0.3535\n",
            "Epoch 28/100\n",
            "252/252 [==============================] - 8s 33ms/step - loss: 0.3745\n",
            "Epoch 29/100\n",
            "252/252 [==============================] - 7s 29ms/step - loss: 0.3596\n",
            "Epoch 30/100\n",
            "252/252 [==============================] - 8s 33ms/step - loss: 0.3530\n",
            "Epoch 31/100\n",
            "252/252 [==============================] - 8s 31ms/step - loss: 0.3409\n",
            "Epoch 32/100\n",
            "252/252 [==============================] - 7s 30ms/step - loss: 0.3524\n",
            "Epoch 33/100\n",
            "252/252 [==============================] - 8s 32ms/step - loss: 0.3581\n",
            "Epoch 34/100\n",
            "252/252 [==============================] - 7s 27ms/step - loss: 0.3469\n",
            "Epoch 35/100\n",
            "252/252 [==============================] - 9s 35ms/step - loss: 0.3432\n",
            "Epoch 36/100\n",
            "252/252 [==============================] - 8s 33ms/step - loss: 0.3461\n",
            "Epoch 37/100\n",
            "252/252 [==============================] - 7s 29ms/step - loss: 0.3436\n",
            "Epoch 38/100\n",
            "252/252 [==============================] - 8s 32ms/step - loss: 0.3501\n",
            "Epoch 39/100\n",
            "252/252 [==============================] - 7s 28ms/step - loss: 0.3426\n",
            "Epoch 40/100\n",
            "252/252 [==============================] - 8s 32ms/step - loss: 0.3527\n",
            "Epoch 41/100\n",
            "252/252 [==============================] - 8s 30ms/step - loss: 0.3542\n",
            "Epoch 42/100\n",
            "252/252 [==============================] - 8s 31ms/step - loss: 0.3476\n",
            "Epoch 43/100\n",
            "252/252 [==============================] - 8s 32ms/step - loss: 0.3548\n",
            "Epoch 44/100\n",
            "252/252 [==============================] - 7s 29ms/step - loss: 0.3455\n",
            "Epoch 45/100\n",
            "252/252 [==============================] - 8s 32ms/step - loss: 0.3461\n",
            "Epoch 46/100\n",
            "252/252 [==============================] - 7s 30ms/step - loss: 0.3593\n",
            "Epoch 47/100\n",
            "252/252 [==============================] - 8s 31ms/step - loss: 0.3529\n",
            "Epoch 48/100\n",
            "252/252 [==============================] - 8s 33ms/step - loss: 0.3536\n",
            "Epoch 49/100\n",
            "252/252 [==============================] - 7s 28ms/step - loss: 0.3446\n",
            "Epoch 50/100\n",
            "252/252 [==============================] - 8s 32ms/step - loss: 0.3433\n",
            "Epoch 51/100\n",
            "252/252 [==============================] - 7s 29ms/step - loss: 0.3460\n",
            "Epoch 52/100\n",
            "252/252 [==============================] - 8s 33ms/step - loss: 0.3418\n",
            "Epoch 53/100\n",
            "252/252 [==============================] - 8s 32ms/step - loss: 0.3472\n",
            "Epoch 54/100\n",
            "252/252 [==============================] - 7s 28ms/step - loss: 0.3449\n",
            "Epoch 55/100\n",
            "252/252 [==============================] - 8s 33ms/step - loss: 0.3533\n",
            "Epoch 56/100\n",
            "252/252 [==============================] - 7s 28ms/step - loss: 0.3463\n",
            "Epoch 57/100\n",
            "252/252 [==============================] - 8s 33ms/step - loss: 0.3459\n",
            "Epoch 58/100\n",
            "252/252 [==============================] - 8s 33ms/step - loss: 0.3497\n",
            "Epoch 59/100\n",
            "252/252 [==============================] - 7s 28ms/step - loss: 0.3517\n",
            "Epoch 60/100\n",
            "252/252 [==============================] - 8s 33ms/step - loss: 0.3496\n",
            "Epoch 61/100\n",
            "252/252 [==============================] - 7s 28ms/step - loss: 0.3533\n",
            "Epoch 62/100\n",
            "252/252 [==============================] - 8s 32ms/step - loss: 0.3448\n",
            "Epoch 63/100\n",
            "252/252 [==============================] - 8s 33ms/step - loss: 0.3412\n",
            "Epoch 64/100\n",
            "252/252 [==============================] - 7s 28ms/step - loss: 0.3466\n",
            "Epoch 65/100\n",
            "252/252 [==============================] - 8s 32ms/step - loss: 0.3463\n",
            "Epoch 66/100\n",
            "252/252 [==============================] - 7s 28ms/step - loss: 0.3422\n",
            "Epoch 67/100\n",
            "252/252 [==============================] - 8s 33ms/step - loss: 0.3391\n",
            "Epoch 68/100\n",
            "252/252 [==============================] - 8s 32ms/step - loss: 0.3375\n",
            "Epoch 69/100\n",
            "252/252 [==============================] - 7s 29ms/step - loss: 0.3382\n",
            "Epoch 70/100\n",
            "252/252 [==============================] - 8s 33ms/step - loss: 0.3417\n",
            "Epoch 71/100\n",
            "252/252 [==============================] - 7s 28ms/step - loss: 0.3464\n",
            "Epoch 72/100\n",
            "252/252 [==============================] - 8s 33ms/step - loss: 0.3433\n",
            "Epoch 73/100\n",
            "252/252 [==============================] - 8s 32ms/step - loss: 0.3463\n",
            "Epoch 74/100\n",
            "252/252 [==============================] - 7s 29ms/step - loss: 0.3389\n",
            "Epoch 75/100\n",
            "252/252 [==============================] - 8s 34ms/step - loss: 0.3455\n",
            "Epoch 76/100\n",
            "252/252 [==============================] - 7s 29ms/step - loss: 0.3464\n",
            "Epoch 77/100\n",
            "252/252 [==============================] - 8s 32ms/step - loss: 0.3376\n",
            "Epoch 78/100\n",
            "252/252 [==============================] - 8s 33ms/step - loss: 0.3413\n",
            "Epoch 79/100\n",
            "252/252 [==============================] - 7s 29ms/step - loss: 0.3457\n",
            "Epoch 80/100\n",
            "252/252 [==============================] - 8s 33ms/step - loss: 0.3408\n",
            "Epoch 81/100\n",
            "252/252 [==============================] - 7s 28ms/step - loss: 0.3503\n",
            "Epoch 82/100\n",
            "252/252 [==============================] - 8s 33ms/step - loss: 0.3436\n",
            "Epoch 83/100\n",
            "252/252 [==============================] - 8s 32ms/step - loss: 0.3404\n",
            "Epoch 84/100\n",
            "252/252 [==============================] - 7s 29ms/step - loss: 0.3440\n",
            "Epoch 85/100\n",
            "252/252 [==============================] - 8s 33ms/step - loss: 0.3464\n",
            "Epoch 86/100\n",
            "252/252 [==============================] - 7s 29ms/step - loss: 0.3505\n",
            "Epoch 87/100\n",
            "252/252 [==============================] - 8s 33ms/step - loss: 0.3523\n",
            "Epoch 88/100\n",
            "252/252 [==============================] - 8s 33ms/step - loss: 0.3478\n",
            "Epoch 89/100\n",
            "252/252 [==============================] - 7s 29ms/step - loss: 0.3417\n",
            "Epoch 90/100\n",
            "252/252 [==============================] - 8s 34ms/step - loss: 0.3408\n",
            "Epoch 91/100\n",
            "252/252 [==============================] - 7s 28ms/step - loss: 0.3470\n",
            "Epoch 92/100\n",
            "252/252 [==============================] - 8s 33ms/step - loss: 0.3509\n",
            "Epoch 93/100\n",
            "252/252 [==============================] - 8s 33ms/step - loss: 0.3373\n",
            "Epoch 94/100\n",
            "252/252 [==============================] - 7s 29ms/step - loss: 0.3381\n",
            "Epoch 95/100\n",
            "252/252 [==============================] - 8s 33ms/step - loss: 0.3356\n",
            "Epoch 96/100\n",
            "252/252 [==============================] - 7s 29ms/step - loss: 0.3506\n",
            "Epoch 97/100\n",
            "252/252 [==============================] - 8s 33ms/step - loss: 0.3479\n",
            "Epoch 98/100\n",
            "252/252 [==============================] - 8s 33ms/step - loss: 0.3415\n",
            "Epoch 99/100\n",
            "252/252 [==============================] - 7s 28ms/step - loss: 0.3480\n",
            "Epoch 100/100\n",
            "252/252 [==============================] - 8s 33ms/step - loss: 0.3473\n"
          ]
        },
        {
          "output_type": "execute_result",
          "data": {
            "text/plain": [
              "<keras.src.callbacks.History at 0x7f62030fa530>"
            ]
          },
          "metadata": {},
          "execution_count": 14
        }
      ]
    },
    {
      "cell_type": "code",
      "source": [
        "def generate_text(seed_text, next_words, model, max_sequence_len):\n",
        "    for _ in range(next_words):\n",
        "        token_list = tokenizer.texts_to_sequences([seed_text])[0]\n",
        "        token_list = pad_sequences([token_list], maxlen=max_sequence_len-1, padding='pre')\n",
        "        predicted_probabilities = model.predict(token_list)[0]\n",
        "        # Sample the next word based on predicted probabilities\n",
        "        predicted_index = np.random.choice(len(predicted_probabilities), p=predicted_probabilities)\n",
        "        output_word = \"\"\n",
        "        for word, index in tokenizer.word_index.items():\n",
        "            if index == predicted_index:\n",
        "                output_word = word\n",
        "                break\n",
        "        seed_text += \" \" + output_word\n",
        "    return seed_text"
      ],
      "metadata": {
        "id": "92wM-fMoiWoj"
      },
      "execution_count": null,
      "outputs": []
    },
    {
      "cell_type": "code",
      "source": [
        "print (generate_text(\"jack \", 5, model, max_sequence_len))\n",
        "print (generate_text(\"president trump\",5, model, max_sequence_len))\n",
        "print (generate_text(\"donald\", 6, model, max_sequence_len))\n",
        "print (generate_text(\"india and china\", 2, model, max_sequence_len))\n",
        "print (generate_text(\"new york\", 4, model, max_sequence_len))\n",
        "print (generate_text(\"science and technology\", 6, model, max_sequence_len))"
      ],
      "metadata": {
        "colab": {
          "base_uri": "https://localhost:8080/"
        },
        "id": "94v62KOOiWk7",
        "outputId": "6c37a971-5856-4b23-c3c9-dfa343f938f3"
      },
      "execution_count": null,
      "outputs": [
        {
          "output_type": "stream",
          "name": "stdout",
          "text": [
            "1/1 [==============================] - 0s 35ms/step\n",
            "1/1 [==============================] - 0s 35ms/step\n",
            "1/1 [==============================] - 0s 38ms/step\n",
            "1/1 [==============================] - 0s 32ms/step\n",
            "1/1 [==============================] - 0s 44ms/step\n",
            "jack  the simple serendipitous joy of\n",
            "1/1 [==============================] - 0s 36ms/step\n",
            "1/1 [==============================] - 0s 33ms/step\n",
            "1/1 [==============================] - 0s 34ms/step\n",
            "1/1 [==============================] - 0s 31ms/step\n",
            "1/1 [==============================] - 0s 31ms/step\n",
            "president trump more you have about years\n",
            "1/1 [==============================] - 0s 33ms/step\n",
            "1/1 [==============================] - 0s 32ms/step\n",
            "1/1 [==============================] - 0s 32ms/step\n",
            "1/1 [==============================] - 0s 34ms/step\n",
            "1/1 [==============================] - 0s 39ms/step\n",
            "1/1 [==============================] - 0s 36ms/step\n",
            "donald trumps tunnel vision difference that comments\n",
            "1/1 [==============================] - 0s 37ms/step\n",
            "1/1 [==============================] - 0s 38ms/step\n",
            "india and china plans for\n",
            "1/1 [==============================] - 0s 46ms/step\n",
            "1/1 [==============================] - 0s 38ms/step\n",
            "1/1 [==============================] - 0s 24ms/step\n",
            "1/1 [==============================] - 0s 29ms/step\n",
            "new york has 7 billion reasons\n",
            "1/1 [==============================] - 0s 26ms/step\n",
            "1/1 [==============================] - 0s 24ms/step\n",
            "1/1 [==============================] - 0s 24ms/step\n",
            "1/1 [==============================] - 0s 24ms/step\n",
            "1/1 [==============================] - 0s 31ms/step\n",
            "1/1 [==============================] - 0s 26ms/step\n",
            "science and technology what to watch for with job\n"
          ]
        }
      ]
    }
  ]
}